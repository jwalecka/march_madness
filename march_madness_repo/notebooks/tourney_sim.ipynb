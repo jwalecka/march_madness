{
 "cells": [
  {
   "cell_type": "code",
   "execution_count": 80,
   "metadata": {},
   "outputs": [],
   "source": [
    "import pandas as pd\n",
    "import numpy as np\n",
    "import matplotlib.pyplot as plt\n",
    "import random as rand\n",
    "import os\n",
    "from collections import Counter\n",
    "from sklearn.linear_model import LogisticRegression"
   ]
  },
  {
   "cell_type": "code",
   "execution_count": 81,
   "metadata": {},
   "outputs": [
    {
     "name": "stdout",
     "output_type": "stream",
     "text": [
      "/Users/johnwalecka/Desktop/Springboard/march_madness/march_madness_repo/data\n"
     ]
    }
   ],
   "source": [
    "cd ../data"
   ]
  },
  {
   "cell_type": "code",
   "execution_count": 105,
   "metadata": {},
   "outputs": [
    {
     "name": "stderr",
     "output_type": "stream",
     "text": [
      "/Users/johnwalecka/opt/anaconda3/lib/python3.7/site-packages/numpy/lib/arraysetops.py:568: FutureWarning: elementwise comparison failed; returning scalar instead, but in the future will perform elementwise comparison\n",
      "  mask |= (ar1 == a)\n"
     ]
    }
   ],
   "source": [
    "tourney_seeds = pd.read_csv('MNCAATourneySeeds.csv', index_col ='Season').loc['2015'].set_index('TeamID')\n",
    "tourney_results = pd.read_csv('MNCAATourneyCompactResults.csv', index_col ='Season').loc['2015', ['WTeamID', 'LTeamID']].reset_index()\n",
    "reg_games = pd.read_csv('MRegularSeasonCompactResults.csv', index_col='Season').loc['2015', ['WTeamID', 'WScore', 'LTeamID', 'LScore']].reset_index()\n",
    "rankings = pd.read_csv('MMasseyOrdinals.csv', index_col='Season').loc['2015']\n",
    "final_rankings = rankings[(rankings['RankingDayNum'] == 133) & (rankings['SystemName'] == '7OT')].pivot_table(index='TeamID', values='OrdinalRank')"
   ]
  },
  {
   "cell_type": "code",
   "execution_count": 129,
   "metadata": {},
   "outputs": [
    {
     "name": "stdout",
     "output_type": "stream",
     "text": [
      "[0.53630009 0.279758  ]\n"
     ]
    },
    {
     "name": "stderr",
     "output_type": "stream",
     "text": [
      "/Users/johnwalecka/opt/anaconda3/lib/python3.7/site-packages/sklearn/linear_model/logistic.py:432: FutureWarning: Default solver will be changed to 'lbfgs' in 0.22. Specify a solver to silence this warning.\n",
      "  FutureWarning)\n"
     ]
    }
   ],
   "source": [
    "new_df = reg_games.copy()\n",
    "new_df.head()\n",
    "final_rankings.head()\n",
    "\n",
    "for index, row in new_df.iterrows():\n",
    "    win_team_id = new_df.iloc[index]['WTeamID']\n",
    "    lose_team_id = new_df.iloc[index]['LTeamID']\n",
    "    win_team_rank = final_rankings.loc[win_team_id, 'OrdinalRank']\n",
    "    lose_team_rank = final_rankings.loc[lose_team_id, 'OrdinalRank']\n",
    "    \n",
    "    if rand.uniform(0, 1) > 0.5:\n",
    "        new_df.at[index, 'team_1_rank'] = win_team_rank\n",
    "        new_df.at[index, 'team_2_rank'] = lose_team_rank\n",
    "        new_df.at[index, 'result'] = 1\n",
    "    else:\n",
    "        new_df.at[index, 'team_1_rank'] = lose_team_rank\n",
    "        new_df.at[index, 'team_2_rank'] = win_team_rank\n",
    "        new_df.at[index, 'result'] = 0\n",
    "\n",
    "features = ['team_1_rank', 'team_2_rank']\n",
    "x_train = new_df[features]\n",
    "y_train = new_df.result\n",
    "\n",
    "logistic_regression = LogisticRegression()\n",
    "logistic_regression.fit(x_train, y_train)\n",
    "\n",
    "x_test = [[5, 13], [100, 20]]\n",
    "y_pred = logistic_regression.predict_proba(x_test)[:,1]\n",
    "print(y_pred)\n"
   ]
  },
  {
   "cell_type": "code",
   "execution_count": 85,
   "metadata": {},
   "outputs": [],
   "source": [
    "df_seeds = tourney_seeds.copy()\n",
    "df_results = tourney_results.copy()\n",
    "field = list()"
   ]
  },
  {
   "cell_type": "code",
   "execution_count": 86,
   "metadata": {},
   "outputs": [],
   "source": [
    "def is_play_in_team(team_id, df):\n",
    "    seed = df.loc[team_id, 'Seed']\n",
    "    str_len = len(seed)\n",
    "    return ((seed[str_len - 1] == 'a') or (seed[str_len - 1] == 'b'))"
   ]
  },
  {
   "cell_type": "code",
   "execution_count": 87,
   "metadata": {},
   "outputs": [],
   "source": [
    "def first_team_wins(team_1_id, team_2_id, df_results):\n",
    "    for index, row in df_results.iterrows():\n",
    "        winner_id = df_results.iloc[index]['WTeamID']\n",
    "        loser_id = df_results.iloc[index]['LTeamID']\n",
    "        if ((winner_id == team_1_id) and (loser_id == team_2_id)):\n",
    "            return True\n",
    "    return False"
   ]
  },
  {
   "cell_type": "code",
   "execution_count": 88,
   "metadata": {},
   "outputs": [],
   "source": [
    "def update_seed(team_id, df_seeds):\n",
    "    df_seeds.loc[team_id, 'Seed'] = df_seeds.loc[team_id, 'Seed'][:-1]"
   ]
  },
  {
   "cell_type": "code",
   "execution_count": 89,
   "metadata": {},
   "outputs": [],
   "source": [
    "def remove_play_in_teams(df_seeds, df_results):\n",
    "    drop_indices = list()\n",
    "    team_ids = df_seeds.index.values\n",
    "    num_teams = len(df_seeds)\n",
    "    for index in range(0, num_teams - 1):\n",
    "        team_1_id = team_ids[index]\n",
    "        team_2_id = team_ids[index + 1]\n",
    "        if (is_play_in_team(team_1_id, df_seeds) and is_play_in_team(team_2_id, df_seeds)):\n",
    "            if first_team_wins(team_1_id, team_2_id, df_results):\n",
    "                drop_indices.append(team_2_id)\n",
    "                update_seed(team_1_id, df_seeds)\n",
    "            if first_team_wins(team_2_id, team_1_id, df_results):\n",
    "                drop_indices.append(team_1_id)\n",
    "                update_seed(team_2_id, df_seeds)\n",
    "    df_seeds.drop(drop_indices, inplace = True)"
   ]
  },
  {
   "cell_type": "code",
   "execution_count": 90,
   "metadata": {},
   "outputs": [],
   "source": [
    "def set_region(region_list):\n",
    "    team_list = list()\n",
    "    team_list.append(region_list[0])\n",
    "    team_list.append(region_list[15])\n",
    "    team_list.append(region_list[7])\n",
    "    team_list.append(region_list[8])\n",
    "    team_list.append(region_list[4])\n",
    "    team_list.append(region_list[11])\n",
    "    team_list.append(region_list[3])\n",
    "    team_list.append(region_list[12])\n",
    "    team_list.append(region_list[5])\n",
    "    team_list.append(region_list[10])\n",
    "    team_list.append(region_list[2])\n",
    "    team_list.append(region_list[13])\n",
    "    team_list.append(region_list[6])\n",
    "    team_list.append(region_list[9])\n",
    "    team_list.append(region_list[1])\n",
    "    team_list.append(region_list[14])\n",
    "    return team_list"
   ]
  },
  {
   "cell_type": "code",
   "execution_count": 91,
   "metadata": {},
   "outputs": [],
   "source": [
    "def compose_field(df_teams):\n",
    "    team_ids = df_seeds.index.values\n",
    "    region_1 = set_region(team_ids[0:16])\n",
    "    region_2 = set_region(team_ids[16:32])\n",
    "    region_3 = set_region(team_ids[32:48])\n",
    "    region_4 = set_region(team_ids[48:64])\n",
    "    field.extend(region_1)\n",
    "    field.extend(region_2)\n",
    "    field.extend(region_3)\n",
    "    field.extend(region_4)"
   ]
  },
  {
   "cell_type": "code",
   "execution_count": 92,
   "metadata": {},
   "outputs": [],
   "source": [
    "def play_game(team_1, team_2):\n",
    "    if rand.uniform(0, 1) > 0.5:\n",
    "        return team_1\n",
    "    else:\n",
    "        return team_2 "
   ]
  },
  {
   "cell_type": "code",
   "execution_count": 93,
   "metadata": {},
   "outputs": [],
   "source": [
    "def sim_round(team_list):\n",
    "    num_teams = len(team_list)\n",
    "    advance = list()\n",
    "    for index in range(0, num_teams - 1, 2):\n",
    "        winner = play_game(team_list[index], team_list[index + 1])\n",
    "        advance.append(winner)\n",
    "    return advance "
   ]
  },
  {
   "cell_type": "code",
   "execution_count": 94,
   "metadata": {},
   "outputs": [],
   "source": [
    "def sim_tourney():\n",
    "    curr_field = field\n",
    "    sim_results = list()\n",
    "    while len(curr_field) > 1:\n",
    "        curr_field = sim_round(curr_field)\n",
    "        sim_results.extend(curr_field)\n",
    "    return sim_results"
   ]
  },
  {
   "cell_type": "code",
   "execution_count": 95,
   "metadata": {},
   "outputs": [],
   "source": [
    "def higher_seed_round(team_list):\n",
    "    num_teams = len(team_list)\n",
    "    advance = list()\n",
    "    for index in range(0, num_teams - 1, 2):\n",
    "        winner = team_list[index]\n",
    "        advance.append(winner)\n",
    "    return advance "
   ]
  },
  {
   "cell_type": "code",
   "execution_count": 96,
   "metadata": {},
   "outputs": [],
   "source": [
    "def higher_seed_wins_results():\n",
    "    curr_field = field\n",
    "    results = list()\n",
    "    while len(curr_field) > 1:\n",
    "        curr_field = higher_seed_round(curr_field)\n",
    "        results.extend(curr_field)\n",
    "    return results"
   ]
  },
  {
   "cell_type": "code",
   "execution_count": 97,
   "metadata": {},
   "outputs": [],
   "source": [
    "def play_tourney():\n",
    "    total_games = len(field) - 1\n",
    "    curr_index = 0\n",
    "    dynamic_field = field.copy()\n",
    "    for index in range(total_games):\n",
    "        team_1_id = dynamic_field[curr_index]\n",
    "        team_2_id = dynamic_field[curr_index + 1]\n",
    "        if first_team_wins(team_1_id, team_2_id, df_results):\n",
    "            dynamic_field.append(team_1_id)\n",
    "        elif first_team_wins(team_2_id, team_1_id, df_results):\n",
    "            dynamic_field.append(team_2_id)\n",
    "        curr_index = curr_index + 2\n",
    "    return dynamic_field[64:]"
   ]
  },
  {
   "cell_type": "code",
   "execution_count": 98,
   "metadata": {},
   "outputs": [],
   "source": [
    "def bracket_score(results, simulation):\n",
    "    score = int()\n",
    "    for index in range(len(results) - 1):\n",
    "        if (results[index] == simulation[index]):\n",
    "            score += 1\n",
    "    return score"
   ]
  },
  {
   "cell_type": "code",
   "execution_count": 99,
   "metadata": {},
   "outputs": [],
   "source": [
    "def bracket_simulations(num_sims):\n",
    "    scores = list()\n",
    "    remove_play_in_teams(df_seeds, df_results)\n",
    "    compose_field(df_seeds)\n",
    "    true_results = play_tourney()\n",
    "    high_seed_wins_results = higher_seed_wins_results()\n",
    "    high_seed_wins_score = bracket_score(high_seed_wins_results, true_results)\n",
    "    for i in range(num_sims):\n",
    "        sim_results = sim_tourney()\n",
    "        score = bracket_score(sim_results, true_results)\n",
    "        scores.append(score)\n",
    "    return (scores, high_seed_wins_score)\n",
    "        "
   ]
  },
  {
   "cell_type": "code",
   "execution_count": 100,
   "metadata": {},
   "outputs": [
    {
     "name": "stdout",
     "output_type": "stream",
     "text": [
      "43\n",
      "41\n"
     ]
    }
   ],
   "source": [
    "sim_scores, high_seed_score = bracket_simulations(100000)\n",
    "print(max(sim_scores))\n",
    "print(high_seed_score)"
   ]
  },
  {
   "cell_type": "code",
   "execution_count": 101,
   "metadata": {},
   "outputs": [
    {
     "data": {
      "image/png": "[encoded data removed]",
      "text/plain": [
       "<Figure size 432x288 with 1 Axes>"
      ]
     },
     "metadata": {
      "needs_background": "light"
     },
     "output_type": "display_data"
    }
   ],
   "source": [
    "num_bins = 20\n",
    "plt.hist(sim_scores, num_bins)\n",
    "plt.axvline(x=high_seed_score, color='r', linestyle='dashed', linewidth=2)\n",
    "plt.show()"
   ]
  }
 ],
 "metadata": {
  "kernelspec": {
   "display_name": "Python 3",
   "language": "python",
   "name": "python3"
  },
  "language_info": {
   "codemirror_mode": {
    "name": "ipython",
    "version": 3
   },
   "file_extension": ".py",
   "mimetype": "text/x-python",
   "name": "python",
   "nbconvert_exporter": "python",
   "pygments_lexer": "ipython3",
   "version": "3.7.4"
  }
 },
 "nbformat": 4,
 "nbformat_minor": 2
}
