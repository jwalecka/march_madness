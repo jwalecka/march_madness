{
 "cells": [
  {
   "cell_type": "code",
   "execution_count": 172,
   "metadata": {},
   "outputs": [],
   "source": [
    "import pandas as pd\n",
    "import numpy as np\n",
    "from collections import Counter"
   ]
  },
  {
   "cell_type": "code",
   "execution_count": 173,
   "metadata": {},
   "outputs": [
    {
     "name": "stdout",
     "output_type": "stream",
     "text": [
      "/Users/johnwalecka/Desktop/Springboard/march_madness/march_madness_repo/data\n"
     ]
    }
   ],
   "source": [
    "cd ../data"
   ]
  },
  {
   "cell_type": "code",
   "execution_count": 174,
   "metadata": {},
   "outputs": [],
   "source": [
    "tourney_results_2015 = pd.read_csv('MNCAATourneyCompactResults.csv', index_col ='Season').loc['2015', ['WTeamID', 'LTeamID']].reset_index()\n",
    "tourney_results_2016 = pd.read_csv('MNCAATourneyCompactResults.csv', index_col ='Season').loc['2016', ['WTeamID', 'LTeamID']].reset_index()\n",
    "tourney_results_2017 = pd.read_csv('MNCAATourneyCompactResults.csv', index_col ='Season').loc['2017', ['WTeamID', 'LTeamID']].reset_index()\n",
    "tourney_results_2018 = pd.read_csv('MNCAATourneyCompactResults.csv', index_col ='Season').loc['2018', ['WTeamID', 'LTeamID']].reset_index()\n",
    "tourney_results_2019 = pd.read_csv('MNCAATourneyCompactResults.csv', index_col ='Season').loc['2019', ['WTeamID', 'LTeamID']].reset_index()\n",
    "tourney_seeds_2015 = pd.read_csv('MNCAATourneySeeds.csv', index_col ='Season').loc['2015'].set_index('TeamID')\n",
    "tourney_seeds_2016 = pd.read_csv('MNCAATourneySeeds.csv', index_col ='Season').loc['2016'].set_index('TeamID')\n",
    "tourney_seeds_2017 = pd.read_csv('MNCAATourneySeeds.csv', index_col ='Season').loc['2017'].set_index('TeamID')\n",
    "tourney_seeds_2018 = pd.read_csv('MNCAATourneySeeds.csv', index_col ='Season').loc['2018'].set_index('TeamID')\n",
    "tourney_seeds_2019 = pd.read_csv('MNCAATourneySeeds.csv', index_col ='Season').loc['2019'].set_index('TeamID')\n",
    "\n",
    "results_list = [tourney_results_2015, tourney_results_2016, tourney_results_2017, tourney_results_2018, tourney_results_2019]\n",
    "seeds_list = [tourney_seeds_2015, tourney_seeds_2016, tourney_seeds_2017, tourney_seeds_2018, tourney_seeds_2019]\n"
   ]
  },
  {
   "cell_type": "code",
   "execution_count": 175,
   "metadata": {},
   "outputs": [],
   "source": [
    "col_names = ['seed_1_wins', 'seed_2_wins', 'seed_3_wins', 'seed_4_wins', 'seed_5_wins', 'seed_6_wins', 'seed_7_wins', 'seed_8_wins', 'seed_9_wins', 'seed_10_wins', 'seed_11_wins', 'seed_12_wins', 'seed_13_wins', 'seed_14_wins', 'seed_15_wins', 'seed_16_wins']\n",
    "num_seeds = len(col_names)\n",
    "wins_dict = dict()"
   ]
  },
  {
   "cell_type": "code",
   "execution_count": 176,
   "metadata": {},
   "outputs": [
    {
     "data": {
      "text/html": [
       "<div>\n",
       "<style scoped>\n",
       "    .dataframe tbody tr th:only-of-type {\n",
       "        vertical-align: middle;\n",
       "    }\n",
       "\n",
       "    .dataframe tbody tr th {\n",
       "        vertical-align: top;\n",
       "    }\n",
       "\n",
       "    .dataframe thead th {\n",
       "        text-align: right;\n",
       "    }\n",
       "</style>\n",
       "<table border=\"1\" class=\"dataframe\">\n",
       "  <thead>\n",
       "    <tr style=\"text-align: right;\">\n",
       "      <th></th>\n",
       "      <th>Seed</th>\n",
       "    </tr>\n",
       "    <tr>\n",
       "      <th>TeamID</th>\n",
       "      <th></th>\n",
       "    </tr>\n",
       "  </thead>\n",
       "  <tbody>\n",
       "    <tr>\n",
       "      <td>1437</td>\n",
       "      <td>W01</td>\n",
       "    </tr>\n",
       "    <tr>\n",
       "      <td>1438</td>\n",
       "      <td>W02</td>\n",
       "    </tr>\n",
       "    <tr>\n",
       "      <td>1328</td>\n",
       "      <td>W03</td>\n",
       "    </tr>\n",
       "    <tr>\n",
       "      <td>1257</td>\n",
       "      <td>W04</td>\n",
       "    </tr>\n",
       "    <tr>\n",
       "      <td>1320</td>\n",
       "      <td>W05</td>\n",
       "    </tr>\n",
       "  </tbody>\n",
       "</table>\n",
       "</div>"
      ],
      "text/plain": [
       "       Seed\n",
       "TeamID     \n",
       "1437    W01\n",
       "1438    W02\n",
       "1328    W03\n",
       "1257    W04\n",
       "1320    W05"
      ]
     },
     "execution_count": 176,
     "metadata": {},
     "output_type": "execute_result"
    }
   ],
   "source": [
    "tourney_seeds_2015.head()"
   ]
  },
  {
   "cell_type": "code",
   "execution_count": 177,
   "metadata": {},
   "outputs": [],
   "source": [
    "def is_play_in_team(team_id, df):\n",
    "    seed = df.loc[team_id, 'Seed']\n",
    "    str_len = len(seed)\n",
    "    return ((seed[str_len - 1] == 'a') or (seed[str_len - 1] == 'b'))"
   ]
  },
  {
   "cell_type": "code",
   "execution_count": 178,
   "metadata": {},
   "outputs": [],
   "source": [
    "def first_team_wins(team_1_id, team_2_id, df_results):\n",
    "    for index, row in df_results.iterrows():\n",
    "        winner_id = df_results.iloc[index]['WTeamID']\n",
    "        loser_id = df_results.iloc[index]['LTeamID']\n",
    "        if ((winner_id == team_1_id) and (loser_id == team_2_id)):\n",
    "            return True\n",
    "    return False"
   ]
  },
  {
   "cell_type": "code",
   "execution_count": 179,
   "metadata": {},
   "outputs": [],
   "source": [
    "def update_seed(team_id, df_seeds):\n",
    "    df_seeds.loc[team_id, 'Seed'] = df_seeds.loc[team_id, 'Seed'][:-1]"
   ]
  },
  {
   "cell_type": "code",
   "execution_count": 180,
   "metadata": {},
   "outputs": [],
   "source": [
    "def play_play_in_games(df_seeds, df_results):\n",
    "    drop_indices = list()\n",
    "    team_ids = df_seeds.index.values\n",
    "    num_teams = len(df_seeds)\n",
    "    for index in range(0, num_teams - 1):\n",
    "        team_1_id = team_ids[index]\n",
    "        team_2_id = team_ids[index + 1]\n",
    "        if (is_play_in_team(team_1_id, df_seeds) and is_play_in_team(team_2_id, df_seeds)):\n",
    "            if first_team_wins(team_1_id, team_2_id, df_results):\n",
    "                drop_indices.append(team_2_id)\n",
    "                update_seed(team_1_id, df_seeds)\n",
    "            if first_team_wins(team_2_id, team_1_id, df_results):\n",
    "                drop_indices.append(team_1_id)\n",
    "                update_seed(team_2_id, df_seeds)\n",
    "    df_seeds.drop(drop_indices, inplace = True)"
   ]
  },
  {
   "cell_type": "code",
   "execution_count": 181,
   "metadata": {},
   "outputs": [],
   "source": [
    "def calculate_wins(df_teams, df_results, wins_list):\n",
    "    games_per_region = 8\n",
    "    teams = df_teams.index\n",
    "    for i in range(0, games_per_region):\n",
    "        team_1_id = teams[i]\n",
    "        team_2_id = teams[len(df_teams) - 1 - i]\n",
    "        if first_team_wins(team_1_id, team_2_id, df_results):\n",
    "            wins_list[i] += 1\n",
    "        else:\n",
    "            wins_list[num_seeds - i - 1] += 1\n",
    "            "
   ]
  },
  {
   "cell_type": "code",
   "execution_count": 182,
   "metadata": {},
   "outputs": [],
   "source": [
    "def generate_wins_dict(df_seeds, df_results, curr_year):\n",
    "    num_regions = 4\n",
    "    year_wins_list = [0]*num_seeds\n",
    "    for i in range(0, num_regions):\n",
    "        lower_bound = i*num_seeds\n",
    "        upper_bound = (i + 1)*num_seeds\n",
    "        region_teams = df_seeds.iloc[lower_bound:upper_bound]\n",
    "        calculate_wins(region_teams, df_results, year_wins_list)\n",
    "    wins_dict[curr_year] = year_wins_list"
   ]
  },
  {
   "cell_type": "code",
   "execution_count": 183,
   "metadata": {},
   "outputs": [],
   "source": [
    "init_year = 2015\n",
    "for i in range(0, 5):\n",
    "    curr_seeds = seeds_list[i]\n",
    "    curr_results = results_list[i]\n",
    "    curr_year = init_year + i\n",
    "    play_play_in_games(curr_seeds, curr_results)\n",
    "    generate_wins_dict(curr_seeds, curr_results, curr_year)\n",
    "wins_df = pd.DataFrame.from_dict(wins_dict, orient='index',\n",
    "                       columns=col_names)"
   ]
  },
  {
   "cell_type": "code",
   "execution_count": 185,
   "metadata": {},
   "outputs": [
    {
     "data": {
      "text/html": [
       "<div>\n",
       "<style scoped>\n",
       "    .dataframe tbody tr th:only-of-type {\n",
       "        vertical-align: middle;\n",
       "    }\n",
       "\n",
       "    .dataframe tbody tr th {\n",
       "        vertical-align: top;\n",
       "    }\n",
       "\n",
       "    .dataframe thead th {\n",
       "        text-align: right;\n",
       "    }\n",
       "</style>\n",
       "<table border=\"1\" class=\"dataframe\">\n",
       "  <thead>\n",
       "    <tr style=\"text-align: right;\">\n",
       "      <th></th>\n",
       "      <th>seed_1_wins</th>\n",
       "      <th>seed_2_wins</th>\n",
       "      <th>seed_3_wins</th>\n",
       "      <th>seed_4_wins</th>\n",
       "      <th>seed_5_wins</th>\n",
       "      <th>seed_6_wins</th>\n",
       "      <th>seed_7_wins</th>\n",
       "      <th>seed_8_wins</th>\n",
       "      <th>seed_9_wins</th>\n",
       "      <th>seed_10_wins</th>\n",
       "      <th>seed_11_wins</th>\n",
       "      <th>seed_12_wins</th>\n",
       "      <th>seed_13_wins</th>\n",
       "      <th>seed_14_wins</th>\n",
       "      <th>seed_15_wins</th>\n",
       "      <th>seed_16_wins</th>\n",
       "    </tr>\n",
       "  </thead>\n",
       "  <tbody>\n",
       "    <tr>\n",
       "      <td>2015</td>\n",
       "      <td>4</td>\n",
       "      <td>4</td>\n",
       "      <td>2</td>\n",
       "      <td>4</td>\n",
       "      <td>4</td>\n",
       "      <td>2</td>\n",
       "      <td>3</td>\n",
       "      <td>4</td>\n",
       "      <td>0</td>\n",
       "      <td>1</td>\n",
       "      <td>2</td>\n",
       "      <td>0</td>\n",
       "      <td>0</td>\n",
       "      <td>2</td>\n",
       "      <td>0</td>\n",
       "      <td>0</td>\n",
       "    </tr>\n",
       "    <tr>\n",
       "      <td>2016</td>\n",
       "      <td>4</td>\n",
       "      <td>3</td>\n",
       "      <td>3</td>\n",
       "      <td>3</td>\n",
       "      <td>2</td>\n",
       "      <td>1</td>\n",
       "      <td>2</td>\n",
       "      <td>1</td>\n",
       "      <td>3</td>\n",
       "      <td>2</td>\n",
       "      <td>3</td>\n",
       "      <td>2</td>\n",
       "      <td>1</td>\n",
       "      <td>1</td>\n",
       "      <td>1</td>\n",
       "      <td>0</td>\n",
       "    </tr>\n",
       "    <tr>\n",
       "      <td>2017</td>\n",
       "      <td>4</td>\n",
       "      <td>4</td>\n",
       "      <td>4</td>\n",
       "      <td>4</td>\n",
       "      <td>3</td>\n",
       "      <td>1</td>\n",
       "      <td>3</td>\n",
       "      <td>3</td>\n",
       "      <td>1</td>\n",
       "      <td>1</td>\n",
       "      <td>3</td>\n",
       "      <td>1</td>\n",
       "      <td>0</td>\n",
       "      <td>0</td>\n",
       "      <td>0</td>\n",
       "      <td>0</td>\n",
       "    </tr>\n",
       "    <tr>\n",
       "      <td>2018</td>\n",
       "      <td>3</td>\n",
       "      <td>4</td>\n",
       "      <td>4</td>\n",
       "      <td>2</td>\n",
       "      <td>4</td>\n",
       "      <td>2</td>\n",
       "      <td>3</td>\n",
       "      <td>1</td>\n",
       "      <td>3</td>\n",
       "      <td>1</td>\n",
       "      <td>2</td>\n",
       "      <td>0</td>\n",
       "      <td>2</td>\n",
       "      <td>0</td>\n",
       "      <td>0</td>\n",
       "      <td>1</td>\n",
       "    </tr>\n",
       "    <tr>\n",
       "      <td>2019</td>\n",
       "      <td>4</td>\n",
       "      <td>4</td>\n",
       "      <td>4</td>\n",
       "      <td>3</td>\n",
       "      <td>1</td>\n",
       "      <td>3</td>\n",
       "      <td>1</td>\n",
       "      <td>0</td>\n",
       "      <td>4</td>\n",
       "      <td>3</td>\n",
       "      <td>1</td>\n",
       "      <td>3</td>\n",
       "      <td>1</td>\n",
       "      <td>0</td>\n",
       "      <td>0</td>\n",
       "      <td>0</td>\n",
       "    </tr>\n",
       "  </tbody>\n",
       "</table>\n",
       "</div>"
      ],
      "text/plain": [
       "      seed_1_wins  seed_2_wins  seed_3_wins  seed_4_wins  seed_5_wins  \\\n",
       "2015            4            4            2            4            4   \n",
       "2016            4            3            3            3            2   \n",
       "2017            4            4            4            4            3   \n",
       "2018            3            4            4            2            4   \n",
       "2019            4            4            4            3            1   \n",
       "\n",
       "      seed_6_wins  seed_7_wins  seed_8_wins  seed_9_wins  seed_10_wins  \\\n",
       "2015            2            3            4            0             1   \n",
       "2016            1            2            1            3             2   \n",
       "2017            1            3            3            1             1   \n",
       "2018            2            3            1            3             1   \n",
       "2019            3            1            0            4             3   \n",
       "\n",
       "      seed_11_wins  seed_12_wins  seed_13_wins  seed_14_wins  seed_15_wins  \\\n",
       "2015             2             0             0             2             0   \n",
       "2016             3             2             1             1             1   \n",
       "2017             3             1             0             0             0   \n",
       "2018             2             0             2             0             0   \n",
       "2019             1             3             1             0             0   \n",
       "\n",
       "      seed_16_wins  \n",
       "2015             0  \n",
       "2016             0  \n",
       "2017             0  \n",
       "2018             1  \n",
       "2019             0  "
      ]
     },
     "execution_count": 185,
     "metadata": {},
     "output_type": "execute_result"
    }
   ],
   "source": [
    "wins_df.head()"
   ]
  }
 ],
 "metadata": {
  "kernelspec": {
   "display_name": "Python 3",
   "language": "python",
   "name": "python3"
  },
  "language_info": {
   "codemirror_mode": {
    "name": "ipython",
    "version": 3
   },
   "file_extension": ".py",
   "mimetype": "text/x-python",
   "name": "python",
   "nbconvert_exporter": "python",
   "pygments_lexer": "ipython3",
   "version": "3.7.4"
  }
 },
 "nbformat": 4,
 "nbformat_minor": 2
}
