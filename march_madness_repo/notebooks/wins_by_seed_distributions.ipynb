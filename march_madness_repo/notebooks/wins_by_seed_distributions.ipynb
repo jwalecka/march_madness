{
 "cells": [
  {
   "cell_type": "code",
   "execution_count": 29,
   "metadata": {},
   "outputs": [],
   "source": [
    "import pandas as pd\n",
    "import numpy as np\n",
    "import matplotlib.pyplot as plt\n",
    "from collections import Counter"
   ]
  },
  {
   "cell_type": "code",
   "execution_count": 30,
   "metadata": {},
   "outputs": [
    {
     "name": "stdout",
     "output_type": "stream",
     "text": [
      "/Users/johnwalecka/Desktop/Springboard/march_madness/march_madness_repo/data\n"
     ]
    }
   ],
   "source": [
    "cd ../data"
   ]
  },
  {
   "cell_type": "code",
   "execution_count": 31,
   "metadata": {},
   "outputs": [],
   "source": [
    "tourney_results_2015 = pd.read_csv('MNCAATourneyCompactResults.csv', index_col ='Season').loc['2015', ['WTeamID', 'LTeamID']].reset_index()\n",
    "tourney_results_2016 = pd.read_csv('MNCAATourneyCompactResults.csv', index_col ='Season').loc['2016', ['WTeamID', 'LTeamID']].reset_index()\n",
    "tourney_results_2017 = pd.read_csv('MNCAATourneyCompactResults.csv', index_col ='Season').loc['2017', ['WTeamID', 'LTeamID']].reset_index()\n",
    "tourney_results_2018 = pd.read_csv('MNCAATourneyCompactResults.csv', index_col ='Season').loc['2018', ['WTeamID', 'LTeamID']].reset_index()\n",
    "tourney_results_2019 = pd.read_csv('MNCAATourneyCompactResults.csv', index_col ='Season').loc['2019', ['WTeamID', 'LTeamID']].reset_index()\n",
    "tourney_seeds_2015 = pd.read_csv('MNCAATourneySeeds.csv', index_col ='Season').loc['2015'].set_index('TeamID')\n",
    "tourney_seeds_2016 = pd.read_csv('MNCAATourneySeeds.csv', index_col ='Season').loc['2016'].set_index('TeamID')\n",
    "tourney_seeds_2017 = pd.read_csv('MNCAATourneySeeds.csv', index_col ='Season').loc['2017'].set_index('TeamID')\n",
    "tourney_seeds_2018 = pd.read_csv('MNCAATourneySeeds.csv', index_col ='Season').loc['2018'].set_index('TeamID')\n",
    "tourney_seeds_2019 = pd.read_csv('MNCAATourneySeeds.csv', index_col ='Season').loc['2019'].set_index('TeamID')\n",
    "\n",
    "results_list = [tourney_results_2015, tourney_results_2016, tourney_results_2017, tourney_results_2018, tourney_results_2019]\n",
    "seeds_list = [tourney_seeds_2015, tourney_seeds_2016, tourney_seeds_2017, tourney_seeds_2018, tourney_seeds_2019]\n"
   ]
  },
  {
   "cell_type": "code",
   "execution_count": 32,
   "metadata": {},
   "outputs": [],
   "source": [
    "col_names = ['seed_1_wins', 'seed_2_wins', 'seed_3_wins', 'seed_4_wins', 'seed_5_wins', 'seed_6_wins', 'seed_7_wins', 'seed_8_wins', 'seed_9_wins', 'seed_10_wins', 'seed_11_wins', 'seed_12_wins', 'seed_13_wins', 'seed_14_wins', 'seed_15_wins', 'seed_16_wins']\n",
    "num_seeds = len(col_names)\n",
    "wins_dict = dict()"
   ]
  },
  {
   "cell_type": "code",
   "execution_count": 33,
   "metadata": {},
   "outputs": [
    {
     "data": {
      "text/html": [
       "<div>\n",
       "<style scoped>\n",
       "    .dataframe tbody tr th:only-of-type {\n",
       "        vertical-align: middle;\n",
       "    }\n",
       "\n",
       "    .dataframe tbody tr th {\n",
       "        vertical-align: top;\n",
       "    }\n",
       "\n",
       "    .dataframe thead th {\n",
       "        text-align: right;\n",
       "    }\n",
       "</style>\n",
       "<table border=\"1\" class=\"dataframe\">\n",
       "  <thead>\n",
       "    <tr style=\"text-align: right;\">\n",
       "      <th></th>\n",
       "      <th>Seed</th>\n",
       "    </tr>\n",
       "    <tr>\n",
       "      <th>TeamID</th>\n",
       "      <th></th>\n",
       "    </tr>\n",
       "  </thead>\n",
       "  <tbody>\n",
       "    <tr>\n",
       "      <td>1437</td>\n",
       "      <td>W01</td>\n",
       "    </tr>\n",
       "    <tr>\n",
       "      <td>1438</td>\n",
       "      <td>W02</td>\n",
       "    </tr>\n",
       "    <tr>\n",
       "      <td>1328</td>\n",
       "      <td>W03</td>\n",
       "    </tr>\n",
       "    <tr>\n",
       "      <td>1257</td>\n",
       "      <td>W04</td>\n",
       "    </tr>\n",
       "    <tr>\n",
       "      <td>1320</td>\n",
       "      <td>W05</td>\n",
       "    </tr>\n",
       "  </tbody>\n",
       "</table>\n",
       "</div>"
      ],
      "text/plain": [
       "       Seed\n",
       "TeamID     \n",
       "1437    W01\n",
       "1438    W02\n",
       "1328    W03\n",
       "1257    W04\n",
       "1320    W05"
      ]
     },
     "execution_count": 33,
     "metadata": {},
     "output_type": "execute_result"
    }
   ],
   "source": [
    "tourney_seeds_2015.head()"
   ]
  },
  {
   "cell_type": "code",
   "execution_count": 34,
   "metadata": {},
   "outputs": [],
   "source": [
    "def is_play_in_team(team_id, df):\n",
    "    seed = df.loc[team_id, 'Seed']\n",
    "    str_len = len(seed)\n",
    "    return ((seed[str_len - 1] == 'a') or (seed[str_len - 1] == 'b'))"
   ]
  },
  {
   "cell_type": "code",
   "execution_count": 35,
   "metadata": {},
   "outputs": [],
   "source": [
    "def first_team_wins(team_1_id, team_2_id, df_results):\n",
    "    for index, row in df_results.iterrows():\n",
    "        winner_id = df_results.iloc[index]['WTeamID']\n",
    "        loser_id = df_results.iloc[index]['LTeamID']\n",
    "        if ((winner_id == team_1_id) and (loser_id == team_2_id)):\n",
    "            return True\n",
    "    return False"
   ]
  },
  {
   "cell_type": "code",
   "execution_count": 36,
   "metadata": {},
   "outputs": [],
   "source": [
    "def update_seed(team_id, df_seeds):\n",
    "    df_seeds.loc[team_id, 'Seed'] = df_seeds.loc[team_id, 'Seed'][:-1]"
   ]
  },
  {
   "cell_type": "code",
   "execution_count": 37,
   "metadata": {},
   "outputs": [],
   "source": [
    "def play_play_in_games(df_seeds, df_results):\n",
    "    drop_indices = list()\n",
    "    team_ids = df_seeds.index.values\n",
    "    num_teams = len(df_seeds)\n",
    "    for index in range(0, num_teams - 1):\n",
    "        team_1_id = team_ids[index]\n",
    "        team_2_id = team_ids[index + 1]\n",
    "        if (is_play_in_team(team_1_id, df_seeds) and is_play_in_team(team_2_id, df_seeds)):\n",
    "            if first_team_wins(team_1_id, team_2_id, df_results):\n",
    "                drop_indices.append(team_2_id)\n",
    "                update_seed(team_1_id, df_seeds)\n",
    "            if first_team_wins(team_2_id, team_1_id, df_results):\n",
    "                drop_indices.append(team_1_id)\n",
    "                update_seed(team_2_id, df_seeds)\n",
    "    df_seeds.drop(drop_indices, inplace = True)"
   ]
  },
  {
   "cell_type": "code",
   "execution_count": 38,
   "metadata": {},
   "outputs": [],
   "source": [
    "def calculate_wins(df_teams, df_results, wins_list):\n",
    "    games_per_region = 8\n",
    "    teams = df_teams.index\n",
    "    for i in range(0, games_per_region):\n",
    "        team_1_id = teams[i]\n",
    "        team_2_id = teams[len(df_teams) - 1 - i]\n",
    "        if first_team_wins(team_1_id, team_2_id, df_results):\n",
    "            wins_list[i] += 1\n",
    "        else:\n",
    "            wins_list[num_seeds - i - 1] += 1\n",
    "            "
   ]
  },
  {
   "cell_type": "code",
   "execution_count": 39,
   "metadata": {},
   "outputs": [],
   "source": [
    "def generate_wins_dict(df_seeds, df_results, curr_year):\n",
    "    num_regions = 4\n",
    "    year_wins_list = [0]*num_seeds\n",
    "    for i in range(0, num_regions):\n",
    "        lower_bound = i*num_seeds\n",
    "        upper_bound = (i + 1)*num_seeds\n",
    "        region_teams = df_seeds.iloc[lower_bound:upper_bound]\n",
    "        calculate_wins(region_teams, df_results, year_wins_list)\n",
    "    wins_dict[curr_year] = year_wins_list"
   ]
  },
  {
   "cell_type": "code",
   "execution_count": 40,
   "metadata": {},
   "outputs": [],
   "source": [
    "init_year = 2015\n",
    "for i in range(0, 5):\n",
    "    curr_seeds = seeds_list[i]\n",
    "    curr_results = results_list[i]\n",
    "    curr_year = init_year + i\n",
    "    play_play_in_games(curr_seeds, curr_results)\n",
    "    generate_wins_dict(curr_seeds, curr_results, curr_year)\n",
    "wins_df = pd.DataFrame.from_dict(wins_dict, orient='index',\n",
    "                       columns=col_names)\n",
    "wins_df.loc['mean'] = wins_df.mean()"
   ]
  },
  {
   "cell_type": "code",
   "execution_count": 41,
   "metadata": {
    "scrolled": true
   },
   "outputs": [
    {
     "data": {
      "text/html": [
       "<div>\n",
       "<style scoped>\n",
       "    .dataframe tbody tr th:only-of-type {\n",
       "        vertical-align: middle;\n",
       "    }\n",
       "\n",
       "    .dataframe tbody tr th {\n",
       "        vertical-align: top;\n",
       "    }\n",
       "\n",
       "    .dataframe thead th {\n",
       "        text-align: right;\n",
       "    }\n",
       "</style>\n",
       "<table border=\"1\" class=\"dataframe\">\n",
       "  <thead>\n",
       "    <tr style=\"text-align: right;\">\n",
       "      <th></th>\n",
       "      <th>seed_1_wins</th>\n",
       "      <th>seed_2_wins</th>\n",
       "      <th>seed_3_wins</th>\n",
       "      <th>seed_4_wins</th>\n",
       "      <th>seed_5_wins</th>\n",
       "      <th>seed_6_wins</th>\n",
       "      <th>seed_7_wins</th>\n",
       "      <th>seed_8_wins</th>\n",
       "      <th>seed_9_wins</th>\n",
       "      <th>seed_10_wins</th>\n",
       "      <th>seed_11_wins</th>\n",
       "      <th>seed_12_wins</th>\n",
       "      <th>seed_13_wins</th>\n",
       "      <th>seed_14_wins</th>\n",
       "      <th>seed_15_wins</th>\n",
       "      <th>seed_16_wins</th>\n",
       "    </tr>\n",
       "  </thead>\n",
       "  <tbody>\n",
       "    <tr>\n",
       "      <td>2015</td>\n",
       "      <td>4.0</td>\n",
       "      <td>4.0</td>\n",
       "      <td>2.0</td>\n",
       "      <td>4.0</td>\n",
       "      <td>4.0</td>\n",
       "      <td>2.0</td>\n",
       "      <td>3.0</td>\n",
       "      <td>4.0</td>\n",
       "      <td>0.0</td>\n",
       "      <td>1.0</td>\n",
       "      <td>2.0</td>\n",
       "      <td>0.0</td>\n",
       "      <td>0.0</td>\n",
       "      <td>2.0</td>\n",
       "      <td>0.0</td>\n",
       "      <td>0.0</td>\n",
       "    </tr>\n",
       "    <tr>\n",
       "      <td>2016</td>\n",
       "      <td>4.0</td>\n",
       "      <td>3.0</td>\n",
       "      <td>3.0</td>\n",
       "      <td>3.0</td>\n",
       "      <td>2.0</td>\n",
       "      <td>1.0</td>\n",
       "      <td>2.0</td>\n",
       "      <td>1.0</td>\n",
       "      <td>3.0</td>\n",
       "      <td>2.0</td>\n",
       "      <td>3.0</td>\n",
       "      <td>2.0</td>\n",
       "      <td>1.0</td>\n",
       "      <td>1.0</td>\n",
       "      <td>1.0</td>\n",
       "      <td>0.0</td>\n",
       "    </tr>\n",
       "    <tr>\n",
       "      <td>2017</td>\n",
       "      <td>4.0</td>\n",
       "      <td>4.0</td>\n",
       "      <td>4.0</td>\n",
       "      <td>4.0</td>\n",
       "      <td>3.0</td>\n",
       "      <td>1.0</td>\n",
       "      <td>3.0</td>\n",
       "      <td>3.0</td>\n",
       "      <td>1.0</td>\n",
       "      <td>1.0</td>\n",
       "      <td>3.0</td>\n",
       "      <td>1.0</td>\n",
       "      <td>0.0</td>\n",
       "      <td>0.0</td>\n",
       "      <td>0.0</td>\n",
       "      <td>0.0</td>\n",
       "    </tr>\n",
       "    <tr>\n",
       "      <td>2018</td>\n",
       "      <td>3.0</td>\n",
       "      <td>4.0</td>\n",
       "      <td>4.0</td>\n",
       "      <td>2.0</td>\n",
       "      <td>4.0</td>\n",
       "      <td>2.0</td>\n",
       "      <td>3.0</td>\n",
       "      <td>1.0</td>\n",
       "      <td>3.0</td>\n",
       "      <td>1.0</td>\n",
       "      <td>2.0</td>\n",
       "      <td>0.0</td>\n",
       "      <td>2.0</td>\n",
       "      <td>0.0</td>\n",
       "      <td>0.0</td>\n",
       "      <td>1.0</td>\n",
       "    </tr>\n",
       "    <tr>\n",
       "      <td>2019</td>\n",
       "      <td>4.0</td>\n",
       "      <td>4.0</td>\n",
       "      <td>4.0</td>\n",
       "      <td>3.0</td>\n",
       "      <td>1.0</td>\n",
       "      <td>3.0</td>\n",
       "      <td>1.0</td>\n",
       "      <td>0.0</td>\n",
       "      <td>4.0</td>\n",
       "      <td>3.0</td>\n",
       "      <td>1.0</td>\n",
       "      <td>3.0</td>\n",
       "      <td>1.0</td>\n",
       "      <td>0.0</td>\n",
       "      <td>0.0</td>\n",
       "      <td>0.0</td>\n",
       "    </tr>\n",
       "    <tr>\n",
       "      <td>mean</td>\n",
       "      <td>3.8</td>\n",
       "      <td>3.8</td>\n",
       "      <td>3.4</td>\n",
       "      <td>3.2</td>\n",
       "      <td>2.8</td>\n",
       "      <td>1.8</td>\n",
       "      <td>2.4</td>\n",
       "      <td>1.8</td>\n",
       "      <td>2.2</td>\n",
       "      <td>1.6</td>\n",
       "      <td>2.2</td>\n",
       "      <td>1.2</td>\n",
       "      <td>0.8</td>\n",
       "      <td>0.6</td>\n",
       "      <td>0.2</td>\n",
       "      <td>0.2</td>\n",
       "    </tr>\n",
       "  </tbody>\n",
       "</table>\n",
       "</div>"
      ],
      "text/plain": [
       "      seed_1_wins  seed_2_wins  seed_3_wins  seed_4_wins  seed_5_wins  \\\n",
       "2015          4.0          4.0          2.0          4.0          4.0   \n",
       "2016          4.0          3.0          3.0          3.0          2.0   \n",
       "2017          4.0          4.0          4.0          4.0          3.0   \n",
       "2018          3.0          4.0          4.0          2.0          4.0   \n",
       "2019          4.0          4.0          4.0          3.0          1.0   \n",
       "mean          3.8          3.8          3.4          3.2          2.8   \n",
       "\n",
       "      seed_6_wins  seed_7_wins  seed_8_wins  seed_9_wins  seed_10_wins  \\\n",
       "2015          2.0          3.0          4.0          0.0           1.0   \n",
       "2016          1.0          2.0          1.0          3.0           2.0   \n",
       "2017          1.0          3.0          3.0          1.0           1.0   \n",
       "2018          2.0          3.0          1.0          3.0           1.0   \n",
       "2019          3.0          1.0          0.0          4.0           3.0   \n",
       "mean          1.8          2.4          1.8          2.2           1.6   \n",
       "\n",
       "      seed_11_wins  seed_12_wins  seed_13_wins  seed_14_wins  seed_15_wins  \\\n",
       "2015           2.0           0.0           0.0           2.0           0.0   \n",
       "2016           3.0           2.0           1.0           1.0           1.0   \n",
       "2017           3.0           1.0           0.0           0.0           0.0   \n",
       "2018           2.0           0.0           2.0           0.0           0.0   \n",
       "2019           1.0           3.0           1.0           0.0           0.0   \n",
       "mean           2.2           1.2           0.8           0.6           0.2   \n",
       "\n",
       "      seed_16_wins  \n",
       "2015           0.0  \n",
       "2016           0.0  \n",
       "2017           0.0  \n",
       "2018           1.0  \n",
       "2019           0.0  \n",
       "mean           0.2  "
      ]
     },
     "execution_count": 41,
     "metadata": {},
     "output_type": "execute_result"
    }
   ],
   "source": [
    "wins_df.head(10)"
   ]
  },
  {
   "cell_type": "code",
   "execution_count": 42,
   "metadata": {},
   "outputs": [
    {
     "data": {
      "image/png": "[encoded data removed]",
      "text/plain": [
       "<Figure size 1152x144 with 8 Axes>"
      ]
     },
     "metadata": {
      "needs_background": "light"
     },
     "output_type": "display_data"
    }
   ],
   "source": [
    "x = range(2)\n",
    "num_seeds = 16\n",
    "num_plots = 8\n",
    "plt.figure(figsize=(16,2))\n",
    "for i in range(num_plots):\n",
    "    plt.subplot(1, 8, i + 1)\n",
    "    high_seed = col_names[i]\n",
    "    low_seed = col_names[-i - 1]\n",
    "    high_seed_label = str(i + 1) + ' Seed'\n",
    "    low_seed_label = str(num_seeds - i) + ' Seed'\n",
    "    values = wins_df.loc['mean', [high_seed, low_seed]]\n",
    "    dist = plt.bar(x, values)\n",
    "    plt.yticks(range(1, 6, 1), ['1', '2', '3', '4', ''])\n",
    "    plt.xticks(x, [high_seed_label, low_seed_label], rotation='horizontal')\n",
    "    ax = plt.gca()\n",
    "    if i == 0:\n",
    "        y_ticks = ax.yaxis.get_major_ticks()\n",
    "        y_ticks[4].set_visible(False)\n",
    "    else:\n",
    "        ax.yaxis.set_visible(False)\n",
    "    for i, v in enumerate(values):\n",
    "        plt.text(i - .2, v + 0.25, str(v), color='black', fontweight='bold')\n",
    "\n",
    "plt.show()"
   ]
  }
 ],
 "metadata": {
  "kernelspec": {
   "display_name": "Python 3",
   "language": "python",
   "name": "python3"
  },
  "language_info": {
   "codemirror_mode": {
    "name": "ipython",
    "version": 3
   },
   "file_extension": ".py",
   "mimetype": "text/x-python",
   "name": "python",
   "nbconvert_exporter": "python",
   "pygments_lexer": "ipython3",
   "version": "3.7.4"
  }
 },
 "nbformat": 4,
 "nbformat_minor": 2
}
