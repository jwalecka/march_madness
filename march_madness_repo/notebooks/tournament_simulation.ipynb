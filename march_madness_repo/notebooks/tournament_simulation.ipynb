{
 "cells": [
  {
   "cell_type": "code",
   "execution_count": 697,
   "metadata": {},
   "outputs": [],
   "source": [
    "import pandas as pd\n",
    "import numpy as np\n",
    "import random as rand\n",
    "import os\n",
    "from collections import Counter"
   ]
  },
  {
   "cell_type": "code",
   "execution_count": 698,
   "metadata": {},
   "outputs": [
    {
     "name": "stdout",
     "output_type": "stream",
     "text": [
      "/Users/johnwalecka/Desktop/Springboard/march_madness/march_madness_repo/data\n"
     ]
    }
   ],
   "source": [
    "cd ../data"
   ]
  },
  {
   "cell_type": "code",
   "execution_count": 699,
   "metadata": {
    "scrolled": true
   },
   "outputs": [],
   "source": [
    "tourney_teams = pd.read_csv('MNCAATourneySeeds.csv', index_col ='Season').loc['2015'].reset_index()\n",
    "tourney_results = pd.read_csv('MNCAATourneyCompactResults.csv', index_col ='Season').loc['2015', ['WTeamID', 'LTeamID']].reset_index()"
   ]
  },
  {
   "cell_type": "code",
   "execution_count": 700,
   "metadata": {},
   "outputs": [],
   "source": [
    "sim_teams = tourney_teams.copy()\n",
    "true_teams = tourney_teams.copy()\n",
    "sim_results = list()\n",
    "true_results = list()"
   ]
  },
  {
   "cell_type": "code",
   "execution_count": 701,
   "metadata": {},
   "outputs": [],
   "source": [
    "def reset_dataframes():\n",
    "    sim_teams = tourney_teams.copy()\n",
    "    true_teams = tourney_teams.copy()\n",
    "    sim_results = list()\n",
    "    true_results = list()"
   ]
  },
  {
   "cell_type": "code",
   "execution_count": 702,
   "metadata": {},
   "outputs": [],
   "source": [
    "def get_play_in_teams(df_seeds):\n",
    "    bool_array = (df_seeds['Seed'].str.find('a') != -1) | (df_seeds['Seed'].str.find('b') != -1)\n",
    "    return true_teams[bool_array]"
   ]
  },
  {
   "cell_type": "code",
   "execution_count": 703,
   "metadata": {},
   "outputs": [],
   "source": [
    "def play_game(team_1, team_2):\n",
    "    if rand.uniform(0, 1) > 0.5:\n",
    "        return team_1\n",
    "    else:\n",
    "        return team_2    "
   ]
  },
  {
   "cell_type": "code",
   "execution_count": 704,
   "metadata": {},
   "outputs": [],
   "source": [
    "def first_team_wins(team_1_id, team_2_id):\n",
    "    for index, row in tourney_results.iterrows():\n",
    "        winner_id = tourney_results.iloc[index]['WTeamID']\n",
    "        loser_id = tourney_results.iloc[index]['LTeamID']\n",
    "        if ((winner_id == team_1_id) and (loser_id == team_2_id)):\n",
    "            return True\n",
    "    return False"
   ]
  },
  {
   "cell_type": "code",
   "execution_count": 705,
   "metadata": {},
   "outputs": [],
   "source": [
    "def is_play_in_team(seed):\n",
    "    str_len = len(seed)\n",
    "    return ((seed[str_len - 1] == 'a') or (seed[str_len - 1] == 'b'))"
   ]
  },
  {
   "cell_type": "code",
   "execution_count": 706,
   "metadata": {},
   "outputs": [],
   "source": [
    "def set_region(region_series):\n",
    "    team_list = list()\n",
    "    region_list = list(region_series)\n",
    "    team_list.append(region_list[0])\n",
    "    team_list.append(region_list[15])\n",
    "    team_list.append(region_list[7])\n",
    "    team_list.append(region_list[8])\n",
    "    team_list.append(region_list[4])\n",
    "    team_list.append(region_list[11])\n",
    "    team_list.append(region_list[3])\n",
    "    team_list.append(region_list[12])\n",
    "    team_list.append(region_list[5])\n",
    "    team_list.append(region_list[10])\n",
    "    team_list.append(region_list[2])\n",
    "    team_list.append(region_list[13])\n",
    "    team_list.append(region_list[6])\n",
    "    team_list.append(region_list[9])\n",
    "    team_list.append(region_list[1])\n",
    "    team_list.append(region_list[14])\n",
    "    return team_list\n",
    "    "
   ]
  },
  {
   "cell_type": "code",
   "execution_count": 707,
   "metadata": {},
   "outputs": [],
   "source": [
    "def true_teams_index(team_id):\n",
    "    return true_teams.index[true_teams['TeamID'] == team_id].tolist()[0]"
   ]
  },
  {
   "cell_type": "code",
   "execution_count": 708,
   "metadata": {},
   "outputs": [],
   "source": [
    "def sim_teams_index(team_id):\n",
    "    bool_array = sim_teams['TeamID'] == team_id\n",
    "    print(len(bool_array))\n",
    "    print(sim_teams)\n",
    "    return sim_teams.index[bool_array].tolist()[0]"
   ]
  },
  {
   "cell_type": "code",
   "execution_count": 709,
   "metadata": {},
   "outputs": [],
   "source": [
    "def play_play_in_games():\n",
    "    global true_teams\n",
    "    global true_results\n",
    "    play_in_teams = get_play_in_teams(true_teams)\n",
    "    iters = len(play_in_teams)\n",
    "    drop_indices = list()\n",
    "    for index in range(0, iters, 2):\n",
    "        team_1_id = play_in_teams.iloc[index]['TeamID']\n",
    "        team_2_id = play_in_teams.iloc[index + 1]['TeamID']\n",
    "        if first_team_wins(team_1_id, team_2_id):\n",
    "            drop_index = true_teams_index(team_2_id)\n",
    "            drop_indices.append(drop_index)\n",
    "        if first_team_wins(team_2_id, team_1_id):\n",
    "            drop_index = true_teams_index(team_1_id)\n",
    "            drop_indices.append(drop_index)\n",
    "    true_teams = true_teams.drop(drop_indices)\n",
    "    true_teams = true_teams.reset_index(drop=True)\n",
    "    true_results.extend(list(play_in_teams['TeamID']))"
   ]
  },
  {
   "cell_type": "code",
   "execution_count": 710,
   "metadata": {},
   "outputs": [],
   "source": [
    "def sim_play_in_games():\n",
    "    global sim_teams\n",
    "    global sim_results\n",
    "    play_in_teams = get_play_in_teams(sim_teams)\n",
    "    iters = len(play_in_teams)\n",
    "    drop_indices = list()\n",
    "    for index in range(0, iters, 2):\n",
    "        team_1_id = play_in_teams.iloc[index]['TeamID']\n",
    "        team_2_id = play_in_teams.iloc[index + 1]['TeamID']\n",
    "        if play_game(team_1_id, team_2_id) == team_1_id:\n",
    "            drop_index = sim_teams_index(team_2_id)\n",
    "            drop_indices.append(drop_index)\n",
    "        else:\n",
    "            drop_index = sim_teams_index(team_1_id)\n",
    "            drop_indices.append(drop_index)\n",
    "    sim_teams = sim_teams.drop(drop_indices)\n",
    "    sim_teams = sim_teams.reset_index(drop=True)\n",
    "    sim_results.extend(list(play_in_teams['TeamID']))"
   ]
  },
  {
   "cell_type": "code",
   "execution_count": 711,
   "metadata": {},
   "outputs": [],
   "source": [
    "def get_field_64(df_teams):\n",
    "    team_ids = df_teams['TeamID']\n",
    "    teams = list()\n",
    "    region_1 = set_region(team_ids.iloc[0:16])\n",
    "    region_2 = set_region(team_ids.iloc[16:32])\n",
    "    region_3 = set_region(team_ids.iloc[32:48])\n",
    "    region_4 = set_region(team_ids.iloc[48:64])\n",
    "    teams.extend(region_1)\n",
    "    teams.extend(region_2)\n",
    "    teams.extend(region_3)\n",
    "    teams.extend(region_4)\n",
    "    return teams"
   ]
  },
  {
   "cell_type": "code",
   "execution_count": 712,
   "metadata": {},
   "outputs": [],
   "source": [
    "def sim_round(team_list):\n",
    "    num_teams = len(team_list)\n",
    "    results = list()\n",
    "    curr_index = int()\n",
    "    while len(results) < (num_teams/2):\n",
    "        winner = play_game(team_list[curr_index], team_list[curr_index + 1])\n",
    "        results.append(winner)\n",
    "        curr_index = curr_index + 2\n",
    "    return results       "
   ]
  },
  {
   "cell_type": "code",
   "execution_count": 713,
   "metadata": {},
   "outputs": [],
   "source": [
    "def sim_tourney():\n",
    "    global sim_teams\n",
    "    global sim_results\n",
    "    sim_play_in_games()\n",
    "    sim_field = get_field_64(sim_teams)\n",
    "    sim_results.extend(sim_field)\n",
    "    while len(sim_field) > 1:\n",
    "        sim_field = sim_round(sim_field)\n",
    "        sim_results.extend(sim_field)"
   ]
  },
  {
   "cell_type": "code",
   "execution_count": 714,
   "metadata": {},
   "outputs": [],
   "source": [
    "def play_tourney():\n",
    "    global true_teams\n",
    "    global true_results\n",
    "    total_games = 63 #total games from field of 64 onwards\n",
    "    curr_index = 8 #start at index after play-in games\n",
    "    play_play_in_games()\n",
    "    true_field = get_field_64(true_teams)\n",
    "    true_results.extend(true_field)\n",
    "    for index in range(total_games):\n",
    "        team_1_id = true_results[curr_index]\n",
    "        team_2_id = true_results[curr_index + 1]\n",
    "        if first_team_wins(team_1_id, team_2_id):\n",
    "            true_results.append(team_1_id)\n",
    "        elif first_team_wins(team_2_id, team_1_id):\n",
    "            true_results.append(team_2_id)\n",
    "        curr_index = curr_index + 2"
   ]
  },
  {
   "cell_type": "code",
   "execution_count": 715,
   "metadata": {},
   "outputs": [],
   "source": [
    "def bracket_score(results, simulation):\n",
    "    set_teams = 68\n",
    "    score = int()\n",
    "    for index in range(len(results) - 1):\n",
    "        if (results[index] == simulation[index]):\n",
    "            score = score + 1\n",
    "    return (score - set_teams)\n",
    "            "
   ]
  },
  {
   "cell_type": "code",
   "execution_count": 716,
   "metadata": {},
   "outputs": [
    {
     "name": "stdout",
     "output_type": "stream",
     "text": [
      "68\n",
      "    Season Seed  TeamID\n",
      "0     2015  W01    1437\n",
      "1     2015  W02    1438\n",
      "2     2015  W03    1328\n",
      "3     2015  W04    1257\n",
      "4     2015  W05    1320\n",
      "..     ...  ...     ...\n",
      "63    2015  Z12    1459\n",
      "64    2015  Z13    1217\n",
      "65    2015  Z14    1209\n",
      "66    2015  Z15    1411\n",
      "67    2015  Z16    1157\n",
      "\n",
      "[68 rows x 3 columns]\n",
      "68\n",
      "    Season Seed  TeamID\n",
      "0     2015  W01    1437\n",
      "1     2015  W02    1438\n",
      "2     2015  W03    1328\n",
      "3     2015  W04    1257\n",
      "4     2015  W05    1320\n",
      "..     ...  ...     ...\n",
      "63    2015  Z12    1459\n",
      "64    2015  Z13    1217\n",
      "65    2015  Z14    1209\n",
      "66    2015  Z15    1411\n",
      "67    2015  Z16    1157\n",
      "\n",
      "[68 rows x 3 columns]\n",
      "68\n",
      "    Season Seed  TeamID\n",
      "0     2015  W01    1437\n",
      "1     2015  W02    1438\n",
      "2     2015  W03    1328\n",
      "3     2015  W04    1257\n",
      "4     2015  W05    1320\n",
      "..     ...  ...     ...\n",
      "63    2015  Z12    1459\n",
      "64    2015  Z13    1217\n",
      "65    2015  Z14    1209\n",
      "66    2015  Z15    1411\n",
      "67    2015  Z16    1157\n",
      "\n",
      "[68 rows x 3 columns]\n",
      "68\n",
      "    Season Seed  TeamID\n",
      "0     2015  W01    1437\n",
      "1     2015  W02    1438\n",
      "2     2015  W03    1328\n",
      "3     2015  W04    1257\n",
      "4     2015  W05    1320\n",
      "..     ...  ...     ...\n",
      "63    2015  Z12    1459\n",
      "64    2015  Z13    1217\n",
      "65    2015  Z14    1209\n",
      "66    2015  Z15    1411\n",
      "67    2015  Z16    1157\n",
      "\n",
      "[68 rows x 3 columns]\n",
      "[33]\n",
      "64\n",
      "    Season Seed  TeamID\n",
      "0     2015  W01    1437\n",
      "1     2015  W02    1438\n",
      "2     2015  W03    1328\n",
      "3     2015  W04    1257\n",
      "4     2015  W05    1320\n",
      "..     ...  ...     ...\n",
      "59    2015  Z12    1459\n",
      "60    2015  Z13    1217\n",
      "61    2015  Z14    1209\n",
      "62    2015  Z15    1411\n",
      "63    2015  Z16    1157\n",
      "\n",
      "[64 rows x 3 columns]\n",
      "64\n",
      "    Season Seed  TeamID\n",
      "0     2015  W01    1437\n",
      "1     2015  W02    1438\n",
      "2     2015  W03    1328\n",
      "3     2015  W04    1257\n",
      "4     2015  W05    1320\n",
      "..     ...  ...     ...\n",
      "59    2015  Z12    1459\n",
      "60    2015  Z13    1217\n",
      "61    2015  Z14    1209\n",
      "62    2015  Z15    1411\n",
      "63    2015  Z16    1157\n",
      "\n",
      "[64 rows x 3 columns]\n"
     ]
    },
    {
     "ename": "IndexError",
     "evalue": "list index out of range",
     "output_type": "error",
     "traceback": [
      "\u001b[0;31m---------------------------------------------------------------------------\u001b[0m",
      "\u001b[0;31mIndexError\u001b[0m                                Traceback (most recent call last)",
      "\u001b[0;32m<ipython-input-716-ece049e6c6f1>\u001b[0m in \u001b[0;36m<module>\u001b[0;34m\u001b[0m\n\u001b[1;32m      2\u001b[0m \u001b[0;32mfor\u001b[0m \u001b[0mi\u001b[0m \u001b[0;32min\u001b[0m \u001b[0mrange\u001b[0m\u001b[0;34m(\u001b[0m\u001b[0;36m5\u001b[0m\u001b[0;34m)\u001b[0m\u001b[0;34m:\u001b[0m\u001b[0;34m\u001b[0m\u001b[0;34m\u001b[0m\u001b[0m\n\u001b[1;32m      3\u001b[0m     \u001b[0mreset_dataframes\u001b[0m\u001b[0;34m(\u001b[0m\u001b[0;34m)\u001b[0m\u001b[0;34m\u001b[0m\u001b[0;34m\u001b[0m\u001b[0m\n\u001b[0;32m----> 4\u001b[0;31m     \u001b[0msim_tourney\u001b[0m\u001b[0;34m(\u001b[0m\u001b[0;34m)\u001b[0m\u001b[0;34m\u001b[0m\u001b[0;34m\u001b[0m\u001b[0m\n\u001b[0m\u001b[1;32m      5\u001b[0m     \u001b[0mplay_tourney\u001b[0m\u001b[0;34m(\u001b[0m\u001b[0;34m)\u001b[0m\u001b[0;34m\u001b[0m\u001b[0;34m\u001b[0m\u001b[0m\n\u001b[1;32m      6\u001b[0m     \u001b[0mscore\u001b[0m \u001b[0;34m=\u001b[0m \u001b[0mbracket_score\u001b[0m\u001b[0;34m(\u001b[0m\u001b[0msim_results\u001b[0m\u001b[0;34m,\u001b[0m \u001b[0mtrue_results\u001b[0m\u001b[0;34m)\u001b[0m\u001b[0;34m\u001b[0m\u001b[0;34m\u001b[0m\u001b[0m\n",
      "\u001b[0;32m<ipython-input-713-f16f8d5ca0b4>\u001b[0m in \u001b[0;36msim_tourney\u001b[0;34m()\u001b[0m\n\u001b[1;32m      2\u001b[0m     \u001b[0;32mglobal\u001b[0m \u001b[0msim_teams\u001b[0m\u001b[0;34m\u001b[0m\u001b[0;34m\u001b[0m\u001b[0m\n\u001b[1;32m      3\u001b[0m     \u001b[0;32mglobal\u001b[0m \u001b[0msim_results\u001b[0m\u001b[0;34m\u001b[0m\u001b[0;34m\u001b[0m\u001b[0m\n\u001b[0;32m----> 4\u001b[0;31m     \u001b[0msim_play_in_games\u001b[0m\u001b[0;34m(\u001b[0m\u001b[0;34m)\u001b[0m\u001b[0;34m\u001b[0m\u001b[0;34m\u001b[0m\u001b[0m\n\u001b[0m\u001b[1;32m      5\u001b[0m     \u001b[0msim_field\u001b[0m \u001b[0;34m=\u001b[0m \u001b[0mget_field_64\u001b[0m\u001b[0;34m(\u001b[0m\u001b[0msim_teams\u001b[0m\u001b[0;34m)\u001b[0m\u001b[0;34m\u001b[0m\u001b[0;34m\u001b[0m\u001b[0m\n\u001b[1;32m      6\u001b[0m     \u001b[0msim_results\u001b[0m\u001b[0;34m.\u001b[0m\u001b[0mextend\u001b[0m\u001b[0;34m(\u001b[0m\u001b[0msim_field\u001b[0m\u001b[0;34m)\u001b[0m\u001b[0;34m\u001b[0m\u001b[0;34m\u001b[0m\u001b[0m\n",
      "\u001b[0;32m<ipython-input-710-f376a45d8d09>\u001b[0m in \u001b[0;36msim_play_in_games\u001b[0;34m()\u001b[0m\n\u001b[1;32m      9\u001b[0m         \u001b[0mteam_2_id\u001b[0m \u001b[0;34m=\u001b[0m \u001b[0mplay_in_teams\u001b[0m\u001b[0;34m.\u001b[0m\u001b[0miloc\u001b[0m\u001b[0;34m[\u001b[0m\u001b[0mindex\u001b[0m \u001b[0;34m+\u001b[0m \u001b[0;36m1\u001b[0m\u001b[0;34m]\u001b[0m\u001b[0;34m[\u001b[0m\u001b[0;34m'TeamID'\u001b[0m\u001b[0;34m]\u001b[0m\u001b[0;34m\u001b[0m\u001b[0;34m\u001b[0m\u001b[0m\n\u001b[1;32m     10\u001b[0m         \u001b[0;32mif\u001b[0m \u001b[0mplay_game\u001b[0m\u001b[0;34m(\u001b[0m\u001b[0mteam_1_id\u001b[0m\u001b[0;34m,\u001b[0m \u001b[0mteam_2_id\u001b[0m\u001b[0;34m)\u001b[0m \u001b[0;34m==\u001b[0m \u001b[0mteam_1_id\u001b[0m\u001b[0;34m:\u001b[0m\u001b[0;34m\u001b[0m\u001b[0;34m\u001b[0m\u001b[0m\n\u001b[0;32m---> 11\u001b[0;31m             \u001b[0mdrop_index\u001b[0m \u001b[0;34m=\u001b[0m \u001b[0msim_teams_index\u001b[0m\u001b[0;34m(\u001b[0m\u001b[0mteam_2_id\u001b[0m\u001b[0;34m)\u001b[0m\u001b[0;34m\u001b[0m\u001b[0;34m\u001b[0m\u001b[0m\n\u001b[0m\u001b[1;32m     12\u001b[0m             \u001b[0mdrop_indices\u001b[0m\u001b[0;34m.\u001b[0m\u001b[0mappend\u001b[0m\u001b[0;34m(\u001b[0m\u001b[0mdrop_index\u001b[0m\u001b[0;34m)\u001b[0m\u001b[0;34m\u001b[0m\u001b[0;34m\u001b[0m\u001b[0m\n\u001b[1;32m     13\u001b[0m         \u001b[0;32melse\u001b[0m\u001b[0;34m:\u001b[0m\u001b[0;34m\u001b[0m\u001b[0;34m\u001b[0m\u001b[0m\n",
      "\u001b[0;32m<ipython-input-708-49437c18435b>\u001b[0m in \u001b[0;36msim_teams_index\u001b[0;34m(team_id)\u001b[0m\n\u001b[1;32m      3\u001b[0m     \u001b[0mprint\u001b[0m\u001b[0;34m(\u001b[0m\u001b[0mlen\u001b[0m\u001b[0;34m(\u001b[0m\u001b[0mbool_array\u001b[0m\u001b[0;34m)\u001b[0m\u001b[0;34m)\u001b[0m\u001b[0;34m\u001b[0m\u001b[0;34m\u001b[0m\u001b[0m\n\u001b[1;32m      4\u001b[0m     \u001b[0mprint\u001b[0m\u001b[0;34m(\u001b[0m\u001b[0msim_teams\u001b[0m\u001b[0;34m)\u001b[0m\u001b[0;34m\u001b[0m\u001b[0;34m\u001b[0m\u001b[0m\n\u001b[0;32m----> 5\u001b[0;31m     \u001b[0;32mreturn\u001b[0m \u001b[0msim_teams\u001b[0m\u001b[0;34m.\u001b[0m\u001b[0mindex\u001b[0m\u001b[0;34m[\u001b[0m\u001b[0mbool_array\u001b[0m\u001b[0;34m]\u001b[0m\u001b[0;34m.\u001b[0m\u001b[0mtolist\u001b[0m\u001b[0;34m(\u001b[0m\u001b[0;34m)\u001b[0m\u001b[0;34m[\u001b[0m\u001b[0;36m0\u001b[0m\u001b[0;34m]\u001b[0m\u001b[0;34m\u001b[0m\u001b[0;34m\u001b[0m\u001b[0m\n\u001b[0m",
      "\u001b[0;31mIndexError\u001b[0m: list index out of range"
     ]
    }
   ],
   "source": [
    "scores = list()\n",
    "for i in range(5):\n",
    "    reset_dataframes()\n",
    "    sim_tourney()\n",
    "    play_tourney()\n",
    "    score = bracket_score(sim_results, true_results)\n",
    "    scores.append(score)\n",
    "    print(scores)"
   ]
  },
  {
   "cell_type": "code",
   "execution_count": null,
   "metadata": {},
   "outputs": [],
   "source": [
    "print(scores)"
   ]
  }
 ],
 "metadata": {
  "kernelspec": {
   "display_name": "Python 3",
   "language": "python",
   "name": "python3"
  },
  "language_info": {
   "codemirror_mode": {
    "name": "ipython",
    "version": 3
   },
   "file_extension": ".py",
   "mimetype": "text/x-python",
   "name": "python",
   "nbconvert_exporter": "python",
   "pygments_lexer": "ipython3",
   "version": "3.7.4"
  }
 },
 "nbformat": 4,
 "nbformat_minor": 2
}
