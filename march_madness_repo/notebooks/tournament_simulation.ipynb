{
 "cells": [
  {
   "cell_type": "code",
   "execution_count": 199,
   "metadata": {},
   "outputs": [],
   "source": [
    "import pandas as pd\n",
    "import numpy as np\n",
    "import random as rand\n",
    "import os\n",
    "from collections import Counter"
   ]
  },
  {
   "cell_type": "code",
   "execution_count": 200,
   "metadata": {},
   "outputs": [
    {
     "name": "stdout",
     "output_type": "stream",
     "text": [
      "/Users/johnwalecka/Desktop/Springboard/capstone_project_1/capstone_project_1_repo/data\n"
     ]
    }
   ],
   "source": [
    "cd ../data"
   ]
  },
  {
   "cell_type": "code",
   "execution_count": 201,
   "metadata": {
    "scrolled": true
   },
   "outputs": [
    {
     "data": {
      "text/html": [
       "<div>\n",
       "<style scoped>\n",
       "    .dataframe tbody tr th:only-of-type {\n",
       "        vertical-align: middle;\n",
       "    }\n",
       "\n",
       "    .dataframe tbody tr th {\n",
       "        vertical-align: top;\n",
       "    }\n",
       "\n",
       "    .dataframe thead th {\n",
       "        text-align: right;\n",
       "    }\n",
       "</style>\n",
       "<table border=\"1\" class=\"dataframe\">\n",
       "  <thead>\n",
       "    <tr style=\"text-align: right;\">\n",
       "      <th></th>\n",
       "      <th>Season</th>\n",
       "      <th>Seed</th>\n",
       "      <th>TeamID</th>\n",
       "    </tr>\n",
       "  </thead>\n",
       "  <tbody>\n",
       "    <tr>\n",
       "      <td>0</td>\n",
       "      <td>2015</td>\n",
       "      <td>W01</td>\n",
       "      <td>1437</td>\n",
       "    </tr>\n",
       "    <tr>\n",
       "      <td>1</td>\n",
       "      <td>2015</td>\n",
       "      <td>W02</td>\n",
       "      <td>1438</td>\n",
       "    </tr>\n",
       "    <tr>\n",
       "      <td>2</td>\n",
       "      <td>2015</td>\n",
       "      <td>W03</td>\n",
       "      <td>1328</td>\n",
       "    </tr>\n",
       "    <tr>\n",
       "      <td>3</td>\n",
       "      <td>2015</td>\n",
       "      <td>W04</td>\n",
       "      <td>1257</td>\n",
       "    </tr>\n",
       "    <tr>\n",
       "      <td>4</td>\n",
       "      <td>2015</td>\n",
       "      <td>W05</td>\n",
       "      <td>1320</td>\n",
       "    </tr>\n",
       "  </tbody>\n",
       "</table>\n",
       "</div>"
      ],
      "text/plain": [
       "   Season Seed  TeamID\n",
       "0    2015  W01    1437\n",
       "1    2015  W02    1438\n",
       "2    2015  W03    1328\n",
       "3    2015  W04    1257\n",
       "4    2015  W05    1320"
      ]
     },
     "execution_count": 201,
     "metadata": {},
     "output_type": "execute_result"
    }
   ],
   "source": [
    "tourney_teams = pd.read_csv('MNCAATourneySeeds.csv', index_col ='Season').loc['2015'].reset_index()\n",
    "tourney_teams.head()"
   ]
  },
  {
   "cell_type": "code",
   "execution_count": 202,
   "metadata": {},
   "outputs": [],
   "source": [
    "def play_game(team_1, team_2):\n",
    "    if rand.uniform(0, 1) > 0.5:\n",
    "        return team_1\n",
    "    else:\n",
    "        return team_2    "
   ]
  },
  {
   "cell_type": "code",
   "execution_count": 203,
   "metadata": {},
   "outputs": [],
   "source": [
    "def is_play_in_team(seed):\n",
    "    str_len = len(seed)\n",
    "    return ((seed[str_len - 1] == 'a') or (seed[str_len - 1] == 'b'))"
   ]
  },
  {
   "cell_type": "code",
   "execution_count": 204,
   "metadata": {},
   "outputs": [],
   "source": [
    "def set_region(region_series):\n",
    "    team_list = list()\n",
    "    region_list = list(region_series)\n",
    "    team_list.append(region_list[0])\n",
    "    team_list.append(region_list[15])\n",
    "    team_list.append(region_list[7])\n",
    "    team_list.append(region_list[8])\n",
    "    team_list.append(region_list[4])\n",
    "    team_list.append(region_list[11])\n",
    "    team_list.append(region_list[3])\n",
    "    team_list.append(region_list[12])\n",
    "    team_list.append(region_list[5])\n",
    "    team_list.append(region_list[10])\n",
    "    team_list.append(region_list[2])\n",
    "    team_list.append(region_list[13])\n",
    "    team_list.append(region_list[6])\n",
    "    team_list.append(region_list[9])\n",
    "    team_list.append(region_list[1])\n",
    "    team_list.append(region_list[14])\n",
    "    return team_list\n",
    "    "
   ]
  },
  {
   "cell_type": "code",
   "execution_count": 205,
   "metadata": {},
   "outputs": [],
   "source": [
    "index = int(0)\n",
    "while len(tourney_teams) > 64:\n",
    "    team_1_seed = tourney_teams.iloc[index]['Seed']\n",
    "    team_2_seed = tourney_teams.iloc[index + 1]['Seed']\n",
    "    if (is_play_in_team(team_1_seed) and is_play_in_team(team_2_seed)):\n",
    "        if(play_game(tourney_teams.iloc[index]['Seed'], tourney_teams.iloc[index + 1]['Seed'])) == tourney_teams.iloc[index]['Seed']:\n",
    "            tourney_teams = tourney_teams.drop([index + 1])\n",
    "        else:\n",
    "            tourney_teams = tourney_teams.drop([index])\n",
    "        tourney_teams = tourney_teams.reset_index(drop = True)\n",
    "    index = index + 1"
   ]
  },
  {
   "cell_type": "code",
   "execution_count": 206,
   "metadata": {},
   "outputs": [],
   "source": [
    "team_ids = tourney_teams['TeamID']\n",
    "region_1 = set_region(team_ids.iloc[0:16])\n",
    "region_2 = set_region(team_ids.iloc[16:32])\n",
    "region_3 = set_region(team_ids.iloc[32:48])\n",
    "region_4 = set_region(team_ids.iloc[48:64])\n",
    "round_64_teams = list()\n",
    "round_64_teams.extend(region_1)\n",
    "round_64_teams.extend(region_2)\n",
    "round_64_teams.extend(region_3)\n",
    "round_64_teams.extend(region_4)"
   ]
  },
  {
   "cell_type": "code",
   "execution_count": 207,
   "metadata": {},
   "outputs": [],
   "source": [
    "def play_round(team_list):\n",
    "    num_teams = len(team_list)\n",
    "    results = list()\n",
    "    curr_index = int()\n",
    "    while len(results) < (num_teams/2):\n",
    "        winner = play_game(team_list[curr_index], team_list[curr_index + 1])\n",
    "        results.append(winner)\n",
    "        curr_index = curr_index + 2\n",
    "    return results       "
   ]
  },
  {
   "cell_type": "code",
   "execution_count": 210,
   "metadata": {},
   "outputs": [],
   "source": [
    "def play_tourney(team_list):\n",
    "    cum_results = list()\n",
    "    curr_teams = team_list\n",
    "    cum_results.extend(curr_teams)\n",
    "    while len(curr_teams) > 1:\n",
    "        curr_teams = play_round(curr_teams)\n",
    "        cum_results.extend(curr_teams)\n",
    "    return cum_results"
   ]
  },
  {
   "cell_type": "code",
   "execution_count": 213,
   "metadata": {},
   "outputs": [
    {
     "name": "stdout",
     "output_type": "stream",
     "text": [
      "127\n"
     ]
    }
   ],
   "source": [
    "results = play_tourney(round_64_teams)\n",
    "print(len(results))"
   ]
  }
 ],
 "metadata": {
  "kernelspec": {
   "display_name": "Python 3",
   "language": "python",
   "name": "python3"
  },
  "language_info": {
   "codemirror_mode": {
    "name": "ipython",
    "version": 3
   },
   "file_extension": ".py",
   "mimetype": "text/x-python",
   "name": "python",
   "nbconvert_exporter": "python",
   "pygments_lexer": "ipython3",
   "version": "3.7.4"
  }
 },
 "nbformat": 4,
 "nbformat_minor": 2
}
