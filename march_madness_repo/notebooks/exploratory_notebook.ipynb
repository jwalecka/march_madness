{
 "cells": [
  {
   "cell_type": "code",
   "execution_count": 62,
   "metadata": {},
   "outputs": [],
   "source": [
    "import pandas as pd\n",
    "import matplotlib.pylab as plt\n",
    "import matplotlib as mpl\n",
    "import numpy as np\n",
    "from matplotlib.patches import Circle, Rectangle, Arc\n",
    "import seaborn as sns\n",
    "plt.style.use('seaborn-dark-palette')\n",
    "mypal = plt.rcParams['axes.prop_cycle'].by_key()['color'] # Grab the color pal\n",
    "import os\n",
    "import gc\n",
    "from collections import Counter"
   ]
  },
  {
   "cell_type": "code",
   "execution_count": 63,
   "metadata": {},
   "outputs": [
    {
     "name": "stdout",
     "output_type": "stream",
     "text": [
      "/Users/johnwalecka/Desktop/Springboard/capstone_project_1/capstone_project_1_repo/data\n"
     ]
    }
   ],
   "source": [
    "cd ../data"
   ]
  },
  {
   "cell_type": "code",
   "execution_count": null,
   "metadata": {},
   "outputs": [],
   "source": [
    "events = pd.read_csv('events_2015.csv', index_col='EventID')\n",
    "team_ids = pd.read_csv('teams.csv', index_col='TeamID')\n",
    "games = pd.read_csv('MRegularSeasonCompactResults.csv', index_col='Season').loc['2015']\n",
    "rankings = pd.read_csv('MMasseyOrdinals.csv', index_col='Season').loc['2015']"
   ]
  },
  {
   "cell_type": "code",
   "execution_count": null,
   "metadata": {},
   "outputs": [],
   "source": [
    "games.index = range(len(games))\n",
    "final_rankings = rankings[(rankings['RankingDayNum'] == 133) & (rankings['SystemName'] == '7OT')].pivot_table(index='TeamID', values='OrdinalRank')\n",
    "final_rankings.head()"
   ]
  },
  {
   "cell_type": "code",
   "execution_count": null,
   "metadata": {},
   "outputs": [],
   "source": [
    "for index, row in games.iterrows():\n",
    "    games.loc[index, 'WTeamRank'] = int(final_rankings.loc[games.iloc[index, 1]])\n",
    "    games.loc[index, 'LTeamRank'] = int(final_rankings.loc[games.iloc[index, 3]])"
   ]
  },
  {
   "cell_type": "code",
   "execution_count": null,
   "metadata": {},
   "outputs": [],
   "source": [
    "basic_stats_dist = final_rankings\n",
    "for index, row in basic_stats_dist.iterrows():\n",
    "    basic_stats_dist.loc[index, 'wins'] = len(games[games['WTeamID'] == index])\n",
    "    basic_stats_dist.loc[index, 'losses'] = len(games[games['LTeamID'] == index])\n",
    "    basic_stats_dist.loc[index, 'win_pct'] = basic_stats_dist.loc[index, 'wins']/(basic_stats_dist.loc[index, 'wins'] + basic_stats_dist.loc[index, 'losses'])\n",
    "    basic_stats_dist.loc[index, 'win_top50'] = len(games[(games['WTeamID'] == index) & (games['LTeamRank'] <= 50)])\n"
   ]
  },
  {
   "cell_type": "code",
   "execution_count": null,
   "metadata": {},
   "outputs": [],
   "source": []
  },
  {
   "cell_type": "code",
   "execution_count": null,
   "metadata": {},
   "outputs": [],
   "source": []
  },
  {
   "cell_type": "code",
   "execution_count": null,
   "metadata": {},
   "outputs": [],
   "source": []
  },
  {
   "cell_type": "code",
   "execution_count": null,
   "metadata": {},
   "outputs": [],
   "source": []
  },
  {
   "cell_type": "code",
   "execution_count": null,
   "metadata": {},
   "outputs": [],
   "source": [
    "events['counter'] = 1"
   ]
  },
  {
   "cell_type": "code",
   "execution_count": null,
   "metadata": {},
   "outputs": [],
   "source": [
    "team_shot_counters = dict()\n",
    "for index in team_ids.index:\n",
    "    if ((index in events.WTeamID.values) or (index in events.LTeamID.values)):\n",
    "        shot_list = list(events[events.EventTeamID == index]['EventType'])\n",
    "        dist_dict = Counter(shot_list)\n",
    "        team_shot_counters[index] = dist_dict\n",
    "print(team_shot_counters.get(1101))"
   ]
  },
  {
   "cell_type": "code",
   "execution_count": null,
   "metadata": {},
   "outputs": [],
   "source": [
    "shot_dist = final_rankings\n",
    "inf = 1000000\n",
    "for team_id, shot_counter in team_shot_counters.items():\n",
    "    made_1 = shot_counter.get('made1', 0)\n",
    "    miss_1 = shot_counter.get('miss1', 0)\n",
    "    made_2 = shot_counter.get('made2', 0)\n",
    "    miss_2 = shot_counter.get('miss2', 0)\n",
    "    made_3 = shot_counter.get('made3', 0)\n",
    "    miss_3 = shot_counter.get('miss3', 0)\n",
    "    \n",
    "    shot_dist.loc[team_id, 'ones_attempted_pct'] = (miss_1 + made_1)/total_attempted\n",
    "    shot_dist.loc[team_id, 'ones_made_pct'] = made_1/total_made\n",
    "    shot_dist.loc[team_id, 'twos_attempted_pct'] = (miss_2 + made_2)/total_attempted\n",
    "    shot_dist.loc[team_id, 'twos_made_pct'] = made_2/total_made\n",
    "    shot_dist.loc[team_id, 'threes_attempted_pct'] = (miss_3 + made_3)/total_attempted\n",
    "    shot_dist.loc[team_id, 'threes_made_pct'] = made_3/total_made\n",
    "    \n",
    "shot_dist.sort_values(by='OrdinalRank', ascending=True)\n",
    "    "
   ]
  },
  {
   "cell_type": "code",
   "execution_count": null,
   "metadata": {},
   "outputs": [],
   "source": [
    "total_attempted = shot_counter.get('miss1') + shot_counter.get('made1') + shot_counter.get('miss2') + shot_counter.get('made2') + shot_counter.get('miss3') + shot_counter.get('made3')\n",
    "    total_made = shot_counter.get('made1') + shot_counter.get('made2') + shot_counter.get('made3')\n",
    "    shot_dist.loc[index, 'fts_attempted_pct'] = (shot_counter.get('miss1') + shot_counter.get('made1'))/total_attempted\n",
    "    shot_dist.loc[index, 'fts_made_pct'] = shot_counter.get('made1')/total_made\n",
    "    shot_dist.loc[index, 'twos_attempted_pct'] = (shot_counter.get('miss2') + shot_counter.get('made2'))/total_attempted\n",
    "    shot_dist.loc[index, 'twos_made_pct'] = shot_counter.get('made2')/total_made\n",
    "    shot_dist.loc[index, 'threes_attempted_pct'] = (shot_counter.get('miss3') + shot_counter.get('made3'))/total_attempted\n",
    "    shot_dist.loc[index, 'threes_made_pct'] = shot_counter.get('made3')/total_made\n",
    "shot_dist.head()"
   ]
  },
  {
   "cell_type": "code",
   "execution_count": null,
   "metadata": {
    "scrolled": true
   },
   "outputs": [],
   "source": [
    "events.groupby('EventType')['counter'].sum().sort_values(ascending=False).plot(kind='bar',\n",
    "          figsize=(15, 5),\n",
    "         color=mypal[2],\n",
    "         title='Event Type Frequency (Mens)')\n",
    "plt.xticks(rotation=0)\n",
    "plt.show()"
   ]
  }
 ],
 "metadata": {
  "kernelspec": {
   "display_name": "Python 3",
   "language": "python",
   "name": "python3"
  },
  "language_info": {
   "codemirror_mode": {
    "name": "ipython",
    "version": 3
   },
   "file_extension": ".py",
   "mimetype": "text/x-python",
   "name": "python",
   "nbconvert_exporter": "python",
   "pygments_lexer": "ipython3",
   "version": "3.7.4"
  }
 },
 "nbformat": 4,
 "nbformat_minor": 2
}
